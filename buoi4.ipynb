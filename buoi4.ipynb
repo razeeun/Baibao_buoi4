{
 "cells": [
  {
   "cell_type": "code",
   "execution_count": null,
   "id": "8f3a7259",
   "metadata": {},
   "outputs": [
    {
     "name": "stdout",
     "output_type": "stream",
     "text": [
      "              precision    recall  f1-score   support\n",
      "\n",
      "           0       0.97      0.96      0.96       305\n",
      "           1       0.96      0.97      0.96       295\n",
      "\n",
      "    accuracy                           0.96       600\n",
      "   macro avg       0.96      0.96      0.96       600\n",
      "weighted avg       0.96      0.96      0.96       600\n",
      "\n"
     ]
    },
    {
     "ename": "AssertionError",
     "evalue": "The shape of the shap_values matrix does not match the shape of the provided data matrix.",
     "output_type": "error",
     "traceback": [
      "\u001b[31m---------------------------------------------------------------------------\u001b[39m",
      "\u001b[31mAssertionError\u001b[39m                            Traceback (most recent call last)",
      "\u001b[36mCell\u001b[39m\u001b[36m \u001b[39m\u001b[32mIn[2]\u001b[39m\u001b[32m, line 30\u001b[39m\n\u001b[32m     28\u001b[39m explainer = shap.TreeExplainer(model)\n\u001b[32m     29\u001b[39m shap_values = explainer.shap_values(X_test[:\u001b[32m300\u001b[39m])\n\u001b[32m---> \u001b[39m\u001b[32m30\u001b[39m \u001b[43mshap\u001b[49m\u001b[43m.\u001b[49m\u001b[43msummary_plot\u001b[49m\u001b[43m(\u001b[49m\u001b[43mshap_values\u001b[49m\u001b[43m[\u001b[49m\u001b[32;43m1\u001b[39;49m\u001b[43m]\u001b[49m\u001b[43m,\u001b[49m\u001b[43m \u001b[49m\u001b[43mX_test\u001b[49m\u001b[43m[\u001b[49m\u001b[43m:\u001b[49m\u001b[32;43m300\u001b[39;49m\u001b[43m]\u001b[49m\u001b[43m)\u001b[49m\n",
      "\u001b[36mFile \u001b[39m\u001b[32mc:\\Users\\Admin\\AppData\\Local\\Programs\\Python\\Python311\\Lib\\site-packages\\shap\\plots\\_beeswarm.py:667\u001b[39m, in \u001b[36msummary_legacy\u001b[39m\u001b[34m(shap_values, features, feature_names, max_display, plot_type, color, axis_color, title, alpha, show, sort, color_bar, plot_size, layered_violin_max_num_bins, class_names, class_inds, color_bar_label, cmap, show_values_in_legend, use_log_scale, rng)\u001b[39m\n\u001b[32m    662\u001b[39m         \u001b[38;5;28;01mraise\u001b[39;00m \u001b[38;5;167;01mValueError\u001b[39;00m(\n\u001b[32m    663\u001b[39m             shape_msg + \u001b[33m\"\u001b[39m\u001b[33m Perhaps the extra column in the shap_values matrix is the \u001b[39m\u001b[33m\"\u001b[39m\n\u001b[32m    664\u001b[39m             \u001b[33m\"\u001b[39m\u001b[33mconstant offset? Of so just pass shap_values[:,:-1].\u001b[39m\u001b[33m\"\u001b[39m\n\u001b[32m    665\u001b[39m         )\n\u001b[32m    666\u001b[39m     \u001b[38;5;28;01melse\u001b[39;00m:\n\u001b[32m--> \u001b[39m\u001b[32m667\u001b[39m         \u001b[38;5;28;01massert\u001b[39;00m num_features == features.shape[\u001b[32m1\u001b[39m], shape_msg\n\u001b[32m    669\u001b[39m \u001b[38;5;28;01mif\u001b[39;00m feature_names \u001b[38;5;129;01mis\u001b[39;00m \u001b[38;5;28;01mNone\u001b[39;00m:\n\u001b[32m    670\u001b[39m     feature_names = np.array([labels[\u001b[33m\"\u001b[39m\u001b[33mFEATURE\u001b[39m\u001b[33m\"\u001b[39m] % \u001b[38;5;28mstr\u001b[39m(i) \u001b[38;5;28;01mfor\u001b[39;00m i \u001b[38;5;129;01min\u001b[39;00m \u001b[38;5;28mrange\u001b[39m(num_features)])\n",
      "\u001b[31mAssertionError\u001b[39m: The shape of the shap_values matrix does not match the shape of the provided data matrix."
     ]
    },
    {
     "data": {
      "text/plain": [
       "<Figure size 640x480 with 0 Axes>"
      ]
     },
     "metadata": {},
     "output_type": "display_data"
    }
   ],
   "source": [
    "import pandas as pd\n",
    "import numpy as np\n",
    "from sklearn.model_selection import train_test_split\n",
    "from sklearn.ensemble import RandomForestClassifier\n",
    "from sklearn.metrics import classification_report\n",
    "from imblearn.combine import SMOTEENN\n",
    "from sklearn.utils import resample\n",
    "import shap\n",
    "import matplotlib.pyplot as plt\n",
    "\n",
    "# Đọc dữ liệu\n",
    "df = pd.read_csv(r\"C:\\Users\\Admin\\OneDrive\\Documents\\Hoc_May\\dulieu\\Baibao1\\buoi4\\Epileptic Seizure Recognition.csv\")\n",
    "df_clean = df.drop(columns=[\"Unnamed\"])\n",
    "\n",
    "# Tách đặc trưng và nhãn\n",
    "X = df_clean.drop(columns=[\"y\"]).values\n",
    "y = np.array([1 if label == 1 else 0 for label in df_clean[\"y\"]])\n",
    "\n",
    "# Cân bằng + giảm kích thước cho nhẹ\n",
    "X_resampled, y_resampled = SMOTEENN().fit_resample(X, y)\n",
    "X_resampled, y_resampled = resample(X_resampled, y_resampled, n_samples=3000, random_state=42)\n",
    "\n",
    "# Chia train/test\n",
    "X_train, X_test, y_train, y_test = train_test_split(X_resampled, y_resampled, test_size=0.2, random_state=42)\n",
    "\n",
    "# Huấn luyện mô hình\n",
    "model = RandomForestClassifier(n_estimators=30, random_state=42)\n",
    "model.fit(X_train, y_train)\n",
    "\n",
    "# Đánh giá mô hình\n",
    "y_pred = model.predict(X_test)\n",
    "print(classification_report(y_test, y_pred))\n",
    "\n",
    "# SHAP giải thích với phiên bản mới\n",
    "explainer = shap.Explainer(model, X_train)\n",
    "shap_values = explainer(X_test[:300])\n",
    "\n",
    "# Vẽ biểu đồ SHAP\n",
    "shap.summary_plot(shap_values, X_test[:300])\n"
   ]
  }
 ],
 "metadata": {
  "kernelspec": {
   "display_name": "Python 3",
   "language": "python",
   "name": "python3"
  },
  "language_info": {
   "codemirror_mode": {
    "name": "ipython",
    "version": 3
   },
   "file_extension": ".py",
   "mimetype": "text/x-python",
   "name": "python",
   "nbconvert_exporter": "python",
   "pygments_lexer": "ipython3",
   "version": "3.11.4"
  }
 },
 "nbformat": 4,
 "nbformat_minor": 5
}
